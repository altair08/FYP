{
  "nbformat": 4,
  "nbformat_minor": 0,
  "metadata": {
    "colab": {
      "provenance": [],
      "mount_file_id": "1cuT-uGHVJPJ-R1nbjkb3IOiuzF585E4V",
      "authorship_tag": "ABX9TyOcyCzqJDbkR7BOfCX7K/xO",
      "include_colab_link": true
    },
    "kernelspec": {
      "name": "python3",
      "display_name": "Python 3"
    },
    "language_info": {
      "name": "python"
    }
  },
  "cells": [
    {
      "cell_type": "markdown",
      "metadata": {
        "id": "view-in-github",
        "colab_type": "text"
      },
      "source": [
        "<a href=\"https://colab.research.google.com/github/altair08/FYP/blob/main/Final_Preprocess_FYP.ipynb\" target=\"_parent\"><img src=\"https://colab.research.google.com/assets/colab-badge.svg\" alt=\"Open In Colab\"/></a>"
      ]
    },
    {
      "cell_type": "code",
      "source": [
        "# Mount Google Drive\n",
        "from google.colab import drive\n",
        "drive.mount('/content/drive')"
      ],
      "metadata": {
        "id": "zyDW23gsbJvr",
        "outputId": "6ea7547a-c025-4be9-8c2a-392b6ea367fc",
        "colab": {
          "base_uri": "https://localhost:8080/"
        }
      },
      "execution_count": 1,
      "outputs": [
        {
          "output_type": "stream",
          "name": "stdout",
          "text": [
            "Drive already mounted at /content/drive; to attempt to forcibly remount, call drive.mount(\"/content/drive\", force_remount=True).\n"
          ]
        }
      ]
    },
    {
      "cell_type": "code",
      "source": [
        "import pandas as pd\n",
        "import re\n",
        "import nltk\n",
        "nltk.download('stopwords')\n",
        "nltk.download('wordnet')\n",
        "from nltk.corpus import stopwords\n",
        "from nltk.stem import WordNetLemmatizer\n",
        "!pip install emoji\n",
        "import emoji\n",
        "\n",
        "\n",
        "\n",
        "# Read CSV file\n",
        "df = pd.read_csv('/content/drive/MyDrive/Dats/Kaggle/train.csv')\n",
        "\n",
        "# Define function for text preprocessing\n",
        "def preprocess_text(text):\n",
        "    # Remove special characters\n",
        "    text = re.sub(r'[^a-zA-Z\\s]', '', text)\n",
        "    # Convert to lowercase\n",
        "    text = text.lower()\n",
        "    # Remove stop words\n",
        "    stop_words = set(stopwords.words('english'))\n",
        "    text = ' '.join([word for word in text.split() if word not in stop_words])\n",
        "    # Remove one character words\n",
        "    text = ' '.join([word for word in text.split() if len(word) > 1])\n",
        "    # Convert emojis to text\n",
        "    text = emoji.demojize(text)\n",
        "    # Advanced lemmatization\n",
        "    lemmatizer = WordNetLemmatizer()\n",
        "    text = ' '.join([lemmatizer.lemmatize(word, pos='v') for word in text.split()])\n",
        "    text = ' '.join([lemmatizer.lemmatize(word, pos='n') for word in text.split()])\n",
        "    text = ' '.join([lemmatizer.lemmatize(word, pos='a') for word in text.split()])\n",
        "    # Remove numbers\n",
        "    text = re.sub(r'\\d+', '', text)\n",
        "    # # Tokenize words\n",
        "    # text = text.split()\n",
        "    return text\n",
        "\n",
        "# Apply text preprocessing to specific column\n",
        "df['preprocessed_text'] = df['comment_text'].apply(preprocess_text)\n",
        "\n",
        "# Save the preprocessed data as a CSV file\n",
        "df.to_csv('/content/drive/MyDrive/Dats/Kaggle/pre_data_train.csv', index=False)"
      ],
      "metadata": {
        "colab": {
          "base_uri": "https://localhost:8080/"
        },
        "id": "KZpAPbjbCALp",
        "outputId": "1f24a474-7879-4d1e-e580-307f6ec2a3e6"
      },
      "execution_count": null,
      "outputs": [
        {
          "output_type": "stream",
          "name": "stderr",
          "text": [
            "[nltk_data] Downloading package stopwords to /root/nltk_data...\n",
            "[nltk_data]   Package stopwords is already up-to-date!\n",
            "[nltk_data] Downloading package wordnet to /root/nltk_data...\n",
            "[nltk_data]   Package wordnet is already up-to-date!\n"
          ]
        },
        {
          "output_type": "stream",
          "name": "stdout",
          "text": [
            "Requirement already satisfied: emoji in /usr/local/lib/python3.10/dist-packages (2.6.0)\n"
          ]
        }
      ]
    }
  ]
}